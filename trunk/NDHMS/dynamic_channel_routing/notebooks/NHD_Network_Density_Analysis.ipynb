{
 "cells": [
  {
   "cell_type": "markdown",
   "metadata": {},
   "source": [
    "#### MESHpy Test"
   ]
  },
  {
   "cell_type": "markdown",
   "metadata": {},
   "source": [
    "##### Turn Autosave off\n",
    "Autosave generates additional work for the version control. Remember to manually save any chances after clearing kernel and output for more effective version control."
   ]
  },
  {
   "cell_type": "code",
   "execution_count": 1,
   "metadata": {
    "colab": {},
    "colab_type": "code",
    "id": "deUYvdo-xlch"
   },
   "outputs": [
    {
     "data": {
      "application/javascript": [
       "IPython.notebook.set_autosave_interval(0)"
      ]
     },
     "metadata": {},
     "output_type": "display_data"
    },
    {
     "name": "stdout",
     "output_type": "stream",
     "text": [
      "Autosave disabled\n"
     ]
    }
   ],
   "source": [
    "%autosave 0 "
   ]
  },
  {
   "cell_type": "markdown",
   "metadata": {},
   "source": [
    "##### Google Colab execution\n",
    "Using this Chrome extension, the github-hosted jupyter notebooks may be opened directly in Google Colaboratory\n",
    "https://chrome.google.com/webstore/detail/open-in-colab/iogfkhleblhcpcekbiedikdehleodpjo\n",
    "more info here:\n",
    "https://colab.research.google.com/github/googlecolab/colabtools/blob/master/notebooks/colab-github-demo.ipynb\n",
    "\n",
    "The following two StackOverflow posts helped with managing the dependencies\n",
    "https://stackoverflow.com/questions/53581278/test-if-notebook-is-running-on-google-colab\n",
    "https://stackoverflow.com/questions/53793731/using-custom-packages-on-google-colaboratory\n",
    "\n",
    "[![Open This Notebook In Colab](https://colab.research.google.com/assets/colab-badge.svg)](https://colab.research.google.com/github/jameshalgren/wrf_hydro_nwm_public/blob/dynamic_channel_routing/trunk/NDHMS/dynamic_channel_routing/notebooks/NHD_Network_Density_Analysis.ipynb)"
   ]
  },
  {
   "cell_type": "code",
   "execution_count": 2,
   "metadata": {},
   "outputs": [],
   "source": [
    "import sys\n",
    "try:\n",
    "    import google.colab\n",
    "    IN_COLAB = True\n",
    "    !git clone https://github.com/jameshalgren/wrf_hydro_nwm_public.git\n",
    "    sys.path.append('/content/wrf_hydro_nwm_public/trunk/NDHMS/dynamic_channel_routing/src')\n",
    "except:\n",
    "    IN_COLAB = False\n",
    "    sys.path.append(r'../src')"
   ]
  },
  {
   "cell_type": "code",
   "execution_count": null,
   "metadata": {},
   "outputs": [],
   "source": [
    "from __future__ import division\n",
    "import pickle\n",
    "from MESHpyNetwork import MESHpyNetwork\n",
    "import matplotlib.pyplot as plt\n",
    "from math import ceil\n",
    "import pandas as pd\n",
    "import os\n",
    "\n",
    "def main():\n",
    "    input_type = 'file'\n",
    "    input_vars = {}\n",
    "    input_vars['filetype'] = 'mesh.py'\n",
    "    root = os.path.dirname(os.path.abspath(''))\n",
    "    test_folder = os.path.join(root, r'test')\n",
    "    output_folder = os.path.join(test_folder, r'output')\n",
    "    input_path = os.path.join(test_folder, r'input.txt')\n",
    "    output_path = os.path.join(output_folder, r'out.txt')\n",
    "\n",
    "    input_vars[r'input_path'] = input_path\n",
    "    \n",
    "    network = MESHpyNetwork(input_type = input_type, input_vars = input_vars)\n",
    "\n",
    "if __name__ == \"__main__\":\n",
    "    main()"
   ]
  },
  {
   "cell_type": "code",
   "execution_count": null,
   "metadata": {},
   "outputs": [],
   "source": []
  }
 ],
 "metadata": {
  "colab": {
   "name": "MESHpy Network Test",
   "provenance": [],
   "version": "0.3.2"
  },
  "kernelspec": {
   "display_name": "Python 3",
   "language": "python",
   "name": "python3"
  },
  "language_info": {
   "codemirror_mode": {
    "name": "ipython",
    "version": 3
   },
   "file_extension": ".py",
   "mimetype": "text/x-python",
   "name": "python",
   "nbconvert_exporter": "python",
   "pygments_lexer": "ipython3",
   "version": "3.6.8"
  }
 },
 "nbformat": 4,
 "nbformat_minor": 2
}
