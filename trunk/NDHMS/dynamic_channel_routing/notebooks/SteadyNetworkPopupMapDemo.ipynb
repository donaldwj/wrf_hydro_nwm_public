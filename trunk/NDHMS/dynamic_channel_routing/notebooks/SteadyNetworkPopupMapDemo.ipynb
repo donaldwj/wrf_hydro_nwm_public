{
 "cells": [
  {
   "cell_type": "markdown",
   "metadata": {},
   "source": [
    "#### Generate Map of Steady State Flow Hydrographs"
   ]
  },
  {
   "cell_type": "markdown",
   "metadata": {},
   "source": [
    "##### Turn Autosave off\n",
    "Autosave generates additional work for the version control. Remember to manually save any chances after clearing kernel and output for more effective version control."
   ]
  },
  {
   "cell_type": "code",
   "execution_count": null,
   "metadata": {
    "colab": {},
    "colab_type": "code",
    "id": "deUYvdo-xlch"
   },
   "outputs": [],
   "source": [
    "%autosave 0 "
   ]
  },
  {
   "cell_type": "markdown",
   "metadata": {},
   "source": [
    "##### Google Colab execution\n",
    "Using this Chrome extension, the github-hosted jupyter notebooks may be opened directly in Google Colaboratory\n",
    "https://chrome.google.com/webstore/detail/open-in-colab/iogfkhleblhcpcekbiedikdehleodpjo\n",
    "more info here:\n",
    "https://colab.research.google.com/github/googlecolab/colabtools/blob/master/notebooks/colab-github-demo.ipynb\n",
    "\n",
    "The following two StackOverflow posts helped with managing the dependencies\n",
    "https://stackoverflow.com/questions/53581278/test-if-notebook-is-running-on-google-colab\n",
    "https://stackoverflow.com/questions/53793731/using-custom-packages-on-google-colaboratory\n",
    "\n",
    "[![Open This Notebook In Colab](https://colab.research.google.com/assets/colab-badge.svg)](https://colab.research.google.com/github/jameshalgren/wrf_hydro_nwm_public/blob/dynamic_channel_routing/trunk/NDHMS/dynamic_channel_routing/notebooks/SteadyNetworkPopupMapDemo.ipynb)"
   ]
  },
  {
   "cell_type": "code",
   "execution_count": 1,
   "metadata": {},
   "outputs": [],
   "source": [
    "import sys\n",
    "try:\n",
    "    import google.colab\n",
    "    IN_COLAB = True\n",
    "    !git clone https://github.com/jameshalgren/wrf_hydro_nwm_public.git\n",
    "    sys.path.append('/content/wrf_hydro_nwm_public/trunk/NDHMS/dynamic_channel_routing/src')\n",
    "except:\n",
    "    IN_COLAB = False\n",
    "    sys.path.append(r'../src')"
   ]
  },
  {
   "cell_type": "markdown",
   "metadata": {},
   "source": [
    "###### Note\n",
    "9 Sept 2016\n",
    "The plotting functions seem to require that the cell be executed twice before the output will appear in a standard Jupyter Notebook. "
   ]
  },
  {
   "cell_type": "code",
   "execution_count": 5,
   "metadata": {},
   "outputs": [],
   "source": [
    "from __future__ import division\n",
    "import os\n",
    "import pandas as pd\n",
    "from math import ceil\n",
    "import matplotlib.pyplot as plt\n",
    "from SteadyNetwork import SteadyNetwork\n",
    "\n",
    "def main():\n",
    "    \n",
    "    root = os.path.dirname(os.path.abspath(''))\n",
    "    output_folder = os.path.join(root, r'test/', r'output/', r'plot/')\n",
    "    \n",
    "    input_type = 'simple'\n",
    "    input_vars = {}\n",
    "    input_vars['n_sections'] = 2014\n",
    "    input_vars['n_timesteps'] = 22\n",
    "    input_vars['station_downstream'] = 0\n",
    "    input_vars['station_upstream'] = 1000000\n",
    "    input_vars['bottom_width_downstream'] = 100\n",
    "    input_vars['bottom_width_upstream'] = 1000\n",
    "    input_vars['bottom_z_downstream'] = 0\n",
    "    input_vars['bottom_z_upstream'] = 100\n",
    "    input_vars['dx_ds_boundary'] = 1000\n",
    "    input_vars['S0_ds_boundary'] = 0.0001\n",
    "    input_vars['manning_n_ds_all'] = 0.035\n",
    "    input_vars['loss_coeff_all'] = 0.03\n",
    "    input_vars['hydrograph_steady_time'] = 0\n",
    "    input_vars['hydrograph_event_width'] = 7\n",
    "    input_vars['hydrograph_skewness'] = 4\n",
    "    input_vars['hydrograph_qpeak'] = 5000\n",
    "\n",
    "    network = SteadyNetwork(input_type = input_type, input_vars = input_vars)\n",
    "\n",
    "    network.compute_initial_state()\n",
    "    network.compute_time_steps()\n",
    "\n",
    "    #Create figure\n",
    "    fig = plt.figure()\n",
    "          \n",
    "    #Plot hydrograph of each section and save it with a name associated to it's COMID\n",
    "    #TODO: When IDs are matched, COMID should be replaced with whatever ID is associated with lat/lon\n",
    "    for i, section in enumerate(network.sections):\n",
    "        a = pd.Series(time_step.depth for i, time_step in enumerate(section.time_steps))\n",
    "        plt.plot(a)\n",
    "        plt.savefig(output_folder + 'Hydrograph_' + str(section.comid).zfill(2) + '.jpg')\n",
    "        plt.close()\n",
    "\n",
    "if __name__ == \"__main__\":\n",
    "    main()"
   ]
  },
  {
   "cell_type": "markdown",
   "metadata": {},
   "source": [
    "#### Generate map\n",
    "After writing the image files, generate a map displaying the hydrographs in the locations specified in Locations.csv"
   ]
  },
  {
   "cell_type": "code",
   "execution_count": 34,
   "metadata": {},
   "outputs": [],
   "source": [
    "# -*- coding: utf-8 -*-\n",
    "\"\"\"\n",
    "Created on Mon Sep 30 11:20:56 2019\n",
    "@author: Camaron.George\n",
    "\"\"\"\n",
    "#Import necessary modules\n",
    "import os\n",
    "import glob\n",
    "import folium\n",
    "import base64\n",
    "import pandas as pd\n",
    "import geopandas as gpd\n",
    "from folium import IFrame\n",
    "from folium import plugins\n",
    "\n",
    "root = os.path.dirname(os.path.abspath(''))\n",
    "plot_folder = os.path.join(root, r'test/', r'output/', r'plot/')\n",
    "text_folder = os.path.join(root, r'test/', r'input/', r'geo/')\n",
    "map_folder = os.path.join(root, r'test/', r'output/', r'map/')\n",
    "\n",
    "#Define list of images you want to put in a map popup\n",
    "files = glob.glob(plot_folder + '*.jpg')\n",
    "\n",
    "#Read in file with location attributions and define latitude, longitude, and desired ID variables\n",
    "Locations = gpd.read_file(text_folder + 'Channels/NHD_BrazosLowerColorado_Channels.shp')\n",
    "Comid = Locations['OBJECTID']\n",
    "#Comid = Comid[0:len(files)]\n",
    "Lats = Locations['lat']\n",
    "#Lats = Lats[0:len(files)]\n",
    "Lons = Locations['lon']\n",
    "#Lons = Lons[0:len(files)]\n",
    "order = Locations['order_']\n",
    "\n",
    "#Coordinates you want the map to be centered on when it is opened\n",
    "Center_Coords = (38, -90)\n",
    "\n",
    "#Create map and popup cluster objects:\n",
    "m = folium.Map(location = Center_Coords, zoom_start = 5)#, tiles = 'CartoDBPositron')\n",
    "\n",
    "#Create group of markers you don't want shown when map is initially opened, and add it to the map\n",
    "notShown = folium.FeatureGroup(name='Lower Order', show=False)\n",
    "shown = folium.FeatureGroup(name='Higher Order',show=True)\n",
    "m.add_child(notShown)\n",
    "m.add_child(shown)\n",
    "\n",
    "#Create clusters of markers (shown/not shown) and add them to the map (shown) or feature group (not shown)\n",
    "cluster1 = folium.plugins.MarkerCluster().add_to(notShown)\n",
    "cluster2 = folium.plugins.MarkerCluster().add_to(shown)\n",
    "\n",
    "#Allows the user to toggle between each set of markers or show all markers on the map after open\n",
    "folium.LayerControl().add_to(m)\n",
    "\n",
    "#Loop through list of images, ind index of lat/lon associated with that image, and add it to the appropriate popoup\n",
    "for i in range(0,len(files)):\n",
    "#     ID = os.path.basename(os.path.splitext(files[i])[0])\n",
    "#     index = Comid.index(ID.split('_')[1])\n",
    "    encoded = base64.b64encode(open(files[i], 'rb').read())\n",
    "    html = '<img src=\"data:image/jpeg;base64,{}\">'.format\n",
    "    iframe = IFrame(html(encoded.decode('UTF-8')), width=500, height=350)\n",
    "    popup = folium.Popup(iframe)\n",
    "    #Stream order determines to which cluster each item is assigned\n",
    "    if order[i] > 5:\n",
    "        marker = folium.Marker(location=[Lats[i],Lons[i]], popup=popup).add_to(cluster1)#, icon=icon)\n",
    "    else:\n",
    "        marker = folium.Marker(location=[Lats[i],Lons[i]], popup=popup).add_to(cluster2)#, icon=icon)\n",
    "        \n",
    "\n",
    "#Save map\n",
    "m.save(map_folder + 'TestMap.html')"
   ]
  },
  {
   "cell_type": "code",
   "execution_count": null,
   "metadata": {},
   "outputs": [],
   "source": []
  },
  {
   "cell_type": "code",
   "execution_count": null,
   "metadata": {},
   "outputs": [],
   "source": []
  }
 ],
 "metadata": {
  "colab": {
   "name": "Steady Network Test",
   "provenance": [],
   "version": "0.3.2"
  },
  "kernelspec": {
   "display_name": "Python 3",
   "language": "python",
   "name": "python3"
  },
  "language_info": {
   "codemirror_mode": {
    "name": "ipython",
    "version": 3
   },
   "file_extension": ".py",
   "mimetype": "text/x-python",
   "name": "python",
   "nbconvert_exporter": "python",
   "pygments_lexer": "ipython3",
   "version": "3.7.3"
  }
 },
 "nbformat": 4,
 "nbformat_minor": 1
}
